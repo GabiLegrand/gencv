{
 "cells": [
  {
   "cell_type": "code",
   "execution_count": 1,
   "metadata": {},
   "outputs": [],
   "source": [
    "from openai import OpenAI\n",
    "import time\n",
    "import re\n",
    "import json\n",
    "import os\n",
    "from dotenv import load_dotenv\n",
    "from src.LLM_prompting import *\n",
    "from src.html_generation import * \n",
    "import pdfkit \n",
    "from src.CvBuilder import CvBuilder\n",
    "from src.MongoController import MongoController"
   ]
  },
  {
   "cell_type": "code",
   "execution_count": 2,
   "metadata": {},
   "outputs": [],
   "source": [
    "model_choice = os.getenv(\"OPENAI_MODEL_CHOICE\")\n",
    "openai_api_key = os.getenv(\"OPEN_AI_API_KEY\")\n",
    "\n",
    "client = OpenAI(\n",
    "    api_key=openai_api_key\n",
    ")\n",
    "system = {\n",
    "    \"model_choice\" :  model_choice,\n",
    "    'system_prompt' : \"You are an helpful assistant, you will only use provided informations to answer and will not assume informations. You need to output only relevant information, introduction message are not required\"\n",
    "}"
   ]
  },
  {
   "cell_type": "code",
   "execution_count": 3,
   "metadata": {},
   "outputs": [],
   "source": [
    "mongo_controller = MongoController()\n",
    "builder = CvBuilder(mongo_controller, client, system)"
   ]
  },
  {
   "cell_type": "code",
   "execution_count": 12,
   "metadata": {},
   "outputs": [
    {
     "name": "stdout",
     "output_type": "stream",
     "text": [
      "State 67291ab592bcaf074801f8ce loaded for user 672918ed6de6f79da9ef60f5\n"
     ]
    }
   ],
   "source": [
    "builder.load()"
   ]
  },
  {
   "cell_type": "code",
   "execution_count": null,
   "metadata": {},
   "outputs": [],
   "source": [
    "with open('../job_description.txt','r') as fd:\n",
    "    job_description = fd.read()\n",
    "\n",
    "builder.generate_cv_from_job_description(job_description)\n"
   ]
  },
  {
   "cell_type": "code",
   "execution_count": 6,
   "metadata": {},
   "outputs": [
    {
     "name": "stdout",
     "output_type": "stream",
     "text": [
      "State saved InsertOneResult(ObjectId('67291ab592bcaf074801f8ce'), acknowledged=True)\n"
     ]
    }
   ],
   "source": [
    "builder.save()"
   ]
  },
  {
   "cell_type": "code",
   "execution_count": 6,
   "metadata": {},
   "outputs": [
    {
     "name": "stdout",
     "output_type": "stream",
     "text": [
      "CV created!\n"
     ]
    }
   ],
   "source": [
    "builder.generate_cv_pdf('../output/cv.pdf')"
   ]
  },
  {
   "cell_type": "code",
   "execution_count": 5,
   "metadata": {},
   "outputs": [
    {
     "name": "stdout",
     "output_type": "stream",
     "text": [
      "{'static_context': {'full_name': 'Gabriel Ludel', 'location': 'Tallinn', 'email': 'gabriel.ludel@gmail.com', 'phone': '<b>+33767534950</b>', 'portfolio_link': 'https://gludel.com'}, 'general_info': \"**Professional Background:**\\n1. **Roles and Responsibilities**:\\n   - Former Lead Fullstack Developer at my previous company.\\n   - Managed the complete IT infrastructure for the company.\\n   - Built several production applications, including an ETL, CRM, and user applications from scratch.\\n   - Experienced in managing the full life cycle of a web application.\\n\\n2. **Technical Skills**:\\n   - Fullstack development (4 years of experience).\\n   - Defined application infrastructure using microservices, DevOps, Docker, CI/CD pipelines, and software design patterns.\\n   - Experience in DevOps and data engineering, including data analysis.\\n   - Knowledge of domain and hosting environments, including setup and management.\\n\\n3. **Educational Background**:\\n   - Bachelor's degree in Computer Science.\\n   - Master's degree in Machine Learning.\\n\\n4. **Industry Experience**:\\n   - Experience working in industrial, corporate, and startup environments.\\n\\n5. **Additional Information**:\\n   - Passionate about computer science and artificial intelligence.\\n   - Own a self-hosted LLM station for AI model experimentation.\\n\", 'skills': '- **front** : html, css, vue.js, react, ux/ui, php\\n- **backend** : shell, node.js, django, nest.js, drf restframework, API, microservice, script, REST API, CLI, terminal, SSH\\n- **languages** : python, javascript, typescript, C, C++, VBA\\n- **machine  learning** : NLP, Reinforcement learning, scikit, Deep learning, forecasting, pythorch, tensorflow, Pandas, Numpy\\n- **devops** : cloud, hosting, docker, git, CI/CD\\n- **database** : postgres, SQL, NoSQL, MongoDB, MySQL, SQLite, relational database\\n- **data** : Power bi, Tableau\\n- **Other** : Agile, Clean code, Communication, Project management, deadlines, Debug \\n', 'work_experience': '# Intrad - Fullstack Developer\\n**Date : july 2023 - October 2024\\n**Employment Type**: Full-time\\n**Responsibilities**:\\n- DevOps: Cloud infrastructure selection, deployment scripts (YAML, Bash), database management, domain and hosting management, Git management.\\n- E-learning Application Development: Created quiz forms, PDF embedding, certificate generation.\\n- CRM Development: API creation for remote control, integration with Discord, Zoom, Vimeo, GSuite, user authentication, email management, customer support, monitoring.\\n- Learning Management System (LMS): User resource access control, video tracking, mobile and desktop compatibility.\\n**Skills and Tools Used**: Microservices, Bash, cloud infrastructure, APIs, Zoom API, GSuite, UX/UI design, database management, python, django, aws, docker, vue.js, node.js, CI/CD.\\n\\n# Freelancing - Fullstack Developer\\n**Date : september 2020 - October 2024\\n**Employment Type**: Freelance\\n**Responsibilities**:\\n- ML Engineer: Developper ML models for financial forecasting and reinforcement learning taks\\n- Web Development: Responsive, multi-language websites; Fullstack web applications.\\n**Skills and Tools Used**: Django, Vue, UX/UI, Sktlearn, Scikit, Pytorch, Tensorflow, Pandas, Numpy.\\n\\n# HelioIT - Fullstack Developer\\n**Date : july 2023 - today\\n**Employment Type**: Lead dev, Full-time\\n**Responsibilities**:\\n- SAAS Development: Backend development, database schema design, Vue.js app development, product ownership.\\n- ChatBot Application: Integrated LLM APIs, OpenAI wrapper, self-hosting LLM models, multilingual support.\\n**Skills and Tools Used**: Selfhosting AI,LLM APIs, OpenAI, multilingual application design, Vue.js, nest.js, typescript, API.\\n\\n# Actinvision - Data Analyst\\n**Date : september 2022 - july 2023\\n**Employment Type**: Full-time\\n**Responsibilities**:\\n- Data Analysis: Created dashboards, used Tableau Online for data visualization, data modeling with Dataiku.\\n**Skills and Tools Used**: Tableau, Dataiku, data modeling.\\n\\n# Hager Group - Data Manager\\n**Date : january 2022 - july 2022\\n**Employment Type**: Full-time\\n**Responsibilities**:\\n- ETL Processing: Handled large volumes of Excel data, POC/MVP development, data export into formatted Excel.\\n- Machine Learning Models: Built forecasting models using Scikit-Learn.\\n**Skills and Tools Used**: Excel, data processing, Scikit-Learn.\\n', 'work_experience_meta': {'intrad': {'title': 'Fullstack Developer', 'start_date': 'july 2023', 'end_date': 'October 2024'}, 'freelancing': {'title': 'Fullstack Developer', 'start_date': 'september 2020', 'end_date': 'October 2024'}, 'helioit': {'title': 'Fullstack Developer', 'start_date': 'july 2023', 'end_date': 'Today'}, 'actinvision': {'title': 'Data Analyst', 'start_date': 'september 2022', 'end_date': 'july 2023'}, 'hager group': {'title': 'Data Manager', 'start_date': 'january 2022', 'end_date': 'july 2022'}}, 'education': [{'degree_name': \"Master's degree in Data Science\", 'institution_name': 'University of Strasbourg', 'start_year': '2020', 'end_year': '2022'}, {'degree_name': \"Bachelore's degree in Computer Science\", 'institution_name': 'University of Strasbourg', 'start_year': '2017', 'end_year': '2020'}]}\n"
     ]
    }
   ],
   "source": [
    "\n",
    "# user_data['static_context']\n",
    "# user_data['general_info'] \n",
    "# user_data['skills']\n",
    "# user_data['work_experience']\n",
    "# user_data['work_experience_meta'] \n",
    "# user_data['education'] "
   ]
  },
  {
   "cell_type": "markdown",
   "metadata": {},
   "source": [
    "---\n",
    "\n",
    "From json to mongo"
   ]
  },
  {
   "cell_type": "code",
   "execution_count": 6,
   "metadata": {},
   "outputs": [
    {
     "data": {
      "text/plain": [
       "InsertOneResult(ObjectId('672918ed6de6f79da9ef60f5'), acknowledged=True)"
      ]
     },
     "execution_count": 6,
     "metadata": {},
     "output_type": "execute_result"
    }
   ],
   "source": [
    "with open('./personal_info.json','r') as fd:\n",
    "    user_data = json.load(fd)\n",
    "\n",
    "mongo_controller = MongoController()\n",
    "mongo_controller.save_user_info(user_data)\n"
   ]
  },
  {
   "cell_type": "code",
   "execution_count": 14,
   "metadata": {},
   "outputs": [
    {
     "data": {
      "text/plain": [
       "InsertOneResult(ObjectId('672919086de6f79da9ef60f7'), acknowledged=True)"
      ]
     },
     "execution_count": 14,
     "metadata": {},
     "output_type": "execute_result"
    }
   ],
   "source": [
    "\n",
    "state = {\n",
    "    'job_infos': builder.job_infos,\n",
    "    'work_context': builder.work_context,\n",
    "    'project_context': builder.project_context,\n",
    "    'relevant_skillset': builder.relevant_skillset,\n",
    "    'profile_description': builder.profile_description,\n",
    "    'profile_title': builder.profile_title,\n",
    "    'job_description' : job_description\n",
    "}\n",
    "user_id = builder.user_id\n",
    "\n",
    "mongo_controller.save_user_cv(user_id,state)"
   ]
  }
 ],
 "metadata": {
  "kernelspec": {
   "display_name": "env",
   "language": "python",
   "name": "python3"
  },
  "language_info": {
   "codemirror_mode": {
    "name": "ipython",
    "version": 3
   },
   "file_extension": ".py",
   "mimetype": "text/x-python",
   "name": "python",
   "nbconvert_exporter": "python",
   "pygments_lexer": "ipython3",
   "version": "3.10.10"
  }
 },
 "nbformat": 4,
 "nbformat_minor": 2
}
