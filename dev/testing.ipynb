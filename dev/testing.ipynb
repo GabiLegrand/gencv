{
 "cells": [
  {
   "cell_type": "code",
   "execution_count": 11,
   "metadata": {},
   "outputs": [],
   "source": [
    "from openai import OpenAI\n",
    "import time\n",
    "import re\n",
    "import json\n",
    "import os\n",
    "from dotenv import load_dotenv\n",
    "import sys \n",
    "sys.path.append('..')\n",
    "import requests\n",
    "from src.LLM_prompting import *\n",
    "from src.html_generation import * \n",
    "import pdfkit \n",
    "from src.CvBuilder import CvBuilder\n",
    "from src.MongoController import MongoController"
   ]
  },
  {
   "cell_type": "code",
   "execution_count": 2,
   "metadata": {},
   "outputs": [],
   "source": [
    "\n",
    "load_dotenv()\n",
    "model_choice = os.getenv(\"OPENAI_MODEL_CHOICE\")\n",
    "openai_api_key = os.getenv(\"OPEN_AI_API_KEY\")\n",
    "\n",
    "client = OpenAI(\n",
    "    api_key=openai_api_key\n",
    ")\n",
    "system = {\n",
    "    \"model_choice\" :  model_choice,\n",
    "    'system_prompt' : \"You are an helpful assistant, you will only use provided informations to answer and will not assume informations. You need to output only relevant information, introduction message are not required\"\n",
    "}"
   ]
  },
  {
   "cell_type": "code",
   "execution_count": 3,
   "metadata": {},
   "outputs": [],
   "source": [
    "mongo_controller = MongoController()\n",
    "builder = CvBuilder(mongo_controller, client, system)"
   ]
  },
  {
   "cell_type": "code",
   "execution_count": 4,
   "metadata": {},
   "outputs": [
    {
     "name": "stdout",
     "output_type": "stream",
     "text": [
      "State 672de255c9ccc52572856f47 loaded for user 672918ed6de6f79da9ef60f5\n"
     ]
    }
   ],
   "source": [
    "builder.load()"
   ]
  },
  {
   "cell_type": "code",
   "execution_count": 18,
   "metadata": {},
   "outputs": [],
   "source": [
    "def generate_cover_letter_html(company_name,position_title,full_name,cover_letter_content):\n",
    "    template_env = Environment(loader=FileSystemLoader('.'))\n",
    "    cover_letter_template = template_env.get_template('templates/cover_letter_template.html')\n",
    "\n",
    "\n",
    "    context = {\n",
    "        \"company_name\" : company_name,\n",
    "        \"position_title\" : position_title,\n",
    "        \"full_name\" : full_name,\n",
    "        \"cover_letter_content\" : cover_letter_content\n",
    "    }\n",
    "\n",
    "    # Render the template with the context\n",
    "    cover_letter_html = cover_letter_template.render(context)\n",
    "    return cover_letter_html\n",
    "\n",
    "\n",
    "html_content = generate_cover_letter_html(builder.company_info['name'],\n",
    "                            builder.company_info['position_title'],\n",
    "                            builder.coordinates['full_name'],\n",
    "                            builder.cover_letter.replace('\\n','<br>'))"
   ]
  },
  {
   "cell_type": "code",
   "execution_count": 19,
   "metadata": {},
   "outputs": [
    {
     "name": "stdout",
     "output_type": "stream",
     "text": [
      "Cover letter created!\n"
     ]
    }
   ],
   "source": [
    "\n",
    "try:\n",
    "    pdfkit.from_string(html_content, './output/cover.pdf')\n",
    "    print('Cover letter created!')\n",
    "except Exception as e:\n",
    "    print(f\"Error generating PDF: {e}\")"
   ]
  },
  {
   "cell_type": "code",
   "execution_count": 13,
   "metadata": {},
   "outputs": [
    {
     "name": "stdout",
     "output_type": "stream",
     "text": [
      "Error generating PDF: wkhtmltopdf exited with non-zero code 1. error:\n",
      "QPainter::begin(): Returned false\n",
      "Exit with code 1, due to unknown error.\n",
      "\n"
     ]
    }
   ],
   "source": [
    "builder.generate_cover_letter_pdf('./output_file/cover_letter.pdf')"
   ]
  },
  {
   "cell_type": "code",
   "execution_count": null,
   "metadata": {},
   "outputs": [],
   "source": [
    "with open('../job_description.txt','r') as fd:\n",
    "    job_description = fd.read()\n",
    "\n",
    "builder.generate_cv_from_job_description(job_description)\n"
   ]
  },
  {
   "cell_type": "code",
   "execution_count": 6,
   "metadata": {},
   "outputs": [
    {
     "name": "stdout",
     "output_type": "stream",
     "text": [
      "State saved InsertOneResult(ObjectId('67291ab592bcaf074801f8ce'), acknowledged=True)\n"
     ]
    }
   ],
   "source": [
    "builder.save()"
   ]
  },
  {
   "cell_type": "code",
   "execution_count": 6,
   "metadata": {},
   "outputs": [
    {
     "name": "stdout",
     "output_type": "stream",
     "text": [
      "CV created!\n"
     ]
    }
   ],
   "source": [
    "builder.generate_cv_pdf('../output/cv.pdf')"
   ]
  },
  {
   "cell_type": "code",
   "execution_count": 5,
   "metadata": {},
   "outputs": [
    {
     "name": "stdout",
     "output_type": "stream",
     "text": [
      "{'static_context': {'full_name': 'Gabriel Ludel', 'location': 'Tallinn', 'email': 'gabriel.ludel@gmail.com', 'phone': '<b>+33767534950</b>', 'portfolio_link': 'https://gludel.com'}, 'general_info': \"**Professional Background:**\\n1. **Roles and Responsibilities**:\\n   - Former Lead Fullstack Developer at my previous company.\\n   - Managed the complete IT infrastructure for the company.\\n   - Built several production applications, including an ETL, CRM, and user applications from scratch.\\n   - Experienced in managing the full life cycle of a web application.\\n\\n2. **Technical Skills**:\\n   - Fullstack development (4 years of experience).\\n   - Defined application infrastructure using microservices, DevOps, Docker, CI/CD pipelines, and software design patterns.\\n   - Experience in DevOps and data engineering, including data analysis.\\n   - Knowledge of domain and hosting environments, including setup and management.\\n\\n3. **Educational Background**:\\n   - Bachelor's degree in Computer Science.\\n   - Master's degree in Machine Learning.\\n\\n4. **Industry Experience**:\\n   - Experience working in industrial, corporate, and startup environments.\\n\\n5. **Additional Information**:\\n   - Passionate about computer science and artificial intelligence.\\n   - Own a self-hosted LLM station for AI model experimentation.\\n\", 'skills': '- **front** : html, css, vue.js, react, ux/ui, php\\n- **backend** : shell, node.js, django, nest.js, drf restframework, API, microservice, script, REST API, CLI, terminal, SSH\\n- **languages** : python, javascript, typescript, C, C++, VBA\\n- **machine  learning** : NLP, Reinforcement learning, scikit, Deep learning, forecasting, pythorch, tensorflow, Pandas, Numpy\\n- **devops** : cloud, hosting, docker, git, CI/CD\\n- **database** : postgres, SQL, NoSQL, MongoDB, MySQL, SQLite, relational database\\n- **data** : Power bi, Tableau\\n- **Other** : Agile, Clean code, Communication, Project management, deadlines, Debug \\n', 'work_experience': '# Intrad - Fullstack Developer\\n**Date : july 2023 - October 2024\\n**Employment Type**: Full-time\\n**Responsibilities**:\\n- DevOps: Cloud infrastructure selection, deployment scripts (YAML, Bash), database management, domain and hosting management, Git management.\\n- E-learning Application Development: Created quiz forms, PDF embedding, certificate generation.\\n- CRM Development: API creation for remote control, integration with Discord, Zoom, Vimeo, GSuite, user authentication, email management, customer support, monitoring.\\n- Learning Management System (LMS): User resource access control, video tracking, mobile and desktop compatibility.\\n**Skills and Tools Used**: Microservices, Bash, cloud infrastructure, APIs, Zoom API, GSuite, UX/UI design, database management, python, django, aws, docker, vue.js, node.js, CI/CD.\\n\\n# Freelancing - Fullstack Developer\\n**Date : september 2020 - October 2024\\n**Employment Type**: Freelance\\n**Responsibilities**:\\n- ML Engineer: Developper ML models for financial forecasting and reinforcement learning taks\\n- Web Development: Responsive, multi-language websites; Fullstack web applications.\\n**Skills and Tools Used**: Django, Vue, UX/UI, Sktlearn, Scikit, Pytorch, Tensorflow, Pandas, Numpy.\\n\\n# HelioIT - Fullstack Developer\\n**Date : july 2023 - today\\n**Employment Type**: Lead dev, Full-time\\n**Responsibilities**:\\n- SAAS Development: Backend development, database schema design, Vue.js app development, product ownership.\\n- ChatBot Application: Integrated LLM APIs, OpenAI wrapper, self-hosting LLM models, multilingual support.\\n**Skills and Tools Used**: Selfhosting AI,LLM APIs, OpenAI, multilingual application design, Vue.js, nest.js, typescript, API.\\n\\n# Actinvision - Data Analyst\\n**Date : september 2022 - july 2023\\n**Employment Type**: Full-time\\n**Responsibilities**:\\n- Data Analysis: Created dashboards, used Tableau Online for data visualization, data modeling with Dataiku.\\n**Skills and Tools Used**: Tableau, Dataiku, data modeling.\\n\\n# Hager Group - Data Manager\\n**Date : january 2022 - july 2022\\n**Employment Type**: Full-time\\n**Responsibilities**:\\n- ETL Processing: Handled large volumes of Excel data, POC/MVP development, data export into formatted Excel.\\n- Machine Learning Models: Built forecasting models using Scikit-Learn.\\n**Skills and Tools Used**: Excel, data processing, Scikit-Learn.\\n', 'work_experience_meta': {'intrad': {'title': 'Fullstack Developer', 'start_date': 'july 2023', 'end_date': 'October 2024'}, 'freelancing': {'title': 'Fullstack Developer', 'start_date': 'september 2020', 'end_date': 'October 2024'}, 'helioit': {'title': 'Fullstack Developer', 'start_date': 'july 2023', 'end_date': 'Today'}, 'actinvision': {'title': 'Data Analyst', 'start_date': 'september 2022', 'end_date': 'july 2023'}, 'hager group': {'title': 'Data Manager', 'start_date': 'january 2022', 'end_date': 'july 2022'}}, 'education': [{'degree_name': \"Master's degree in Data Science\", 'institution_name': 'University of Strasbourg', 'start_year': '2020', 'end_year': '2022'}, {'degree_name': \"Bachelore's degree in Computer Science\", 'institution_name': 'University of Strasbourg', 'start_year': '2017', 'end_year': '2020'}]}\n"
     ]
    }
   ],
   "source": [
    "\n",
    "# user_data['static_context']\n",
    "# user_data['general_info'] \n",
    "# user_data['skills']\n",
    "# user_data['work_experience']\n",
    "# user_data['work_experience_meta'] \n",
    "# user_data['education'] "
   ]
  },
  {
   "cell_type": "markdown",
   "metadata": {},
   "source": [
    "---\n",
    "\n",
    "From json to mongo"
   ]
  },
  {
   "cell_type": "code",
   "execution_count": 6,
   "metadata": {},
   "outputs": [
    {
     "data": {
      "text/plain": [
       "InsertOneResult(ObjectId('672918ed6de6f79da9ef60f5'), acknowledged=True)"
      ]
     },
     "execution_count": 6,
     "metadata": {},
     "output_type": "execute_result"
    }
   ],
   "source": [
    "with open('./personal_info.json','r') as fd:\n",
    "    user_data = json.load(fd)\n",
    "\n",
    "mongo_controller = MongoController()\n",
    "mongo_controller.save_user_info(user_data)\n"
   ]
  },
  {
   "cell_type": "code",
   "execution_count": 14,
   "metadata": {},
   "outputs": [
    {
     "data": {
      "text/plain": [
       "InsertOneResult(ObjectId('672919086de6f79da9ef60f7'), acknowledged=True)"
      ]
     },
     "execution_count": 14,
     "metadata": {},
     "output_type": "execute_result"
    }
   ],
   "source": [
    "\n",
    "state = {\n",
    "    'job_infos': builder.job_infos,\n",
    "    'work_context': builder.work_context,\n",
    "    'project_context': builder.project_context,\n",
    "    'relevant_skillset': builder.relevant_skillset,\n",
    "    'profile_description': builder.profile_description,\n",
    "    'profile_title': builder.profile_title,\n",
    "    'job_description' : job_description\n",
    "}\n",
    "user_id = builder.user_id\n",
    "\n",
    "mongo_controller.save_user_cv(user_id,state)"
   ]
  },
  {
   "cell_type": "code",
   "execution_count": 16,
   "metadata": {},
   "outputs": [
    {
     "name": "stdout",
     "output_type": "stream",
     "text": [
      "<Response [200]>\n",
      "PDF saved successfully as 'youramazingfile.pdf'\n"
     ]
    }
   ],
   "source": [
    "\n",
    "url = 'http://localhost:80/pdf'\n",
    "html_content = \"<html><head><meta charset='utf8'></head><body>Hello world</body></html>\"\n",
    "\n",
    "def convet_html_to_pdf(html_content,output_path):\n",
    "    # Send a POST request with the HTML content\n",
    "    response = requests.post(url, data={'html': html_content})\n",
    "    print(response)\n",
    "    # Check if the request was successful\n",
    "    if response.status_code == 200:\n",
    "        # Write the response content to a PDF file\n",
    "        with open(output_path, 'wb') as file:\n",
    "            file.write(response.content)\n",
    "    else:\n",
    "        print(f\"Failed to generate PDF. Status code: {response.status_code}\")"
   ]
  },
  {
   "cell_type": "code",
   "execution_count": 71,
   "metadata": {},
   "outputs": [],
   "source": [
    "data = {\n",
    "  \"coordinates\": {\n",
    "        \"full_name\": \"Gabriel Ludel\",\n",
    "        \"location\": \"Tallinn\",\n",
    "        \"email\": \"gabriel.ludel@gmail.com\",\n",
    "        \"phone\": \"+33767534950\",\n",
    "        \"portfolio_link\": \"https://gludel.com\",\n",
    "        \"availability\": \"now\"\n",
    "    },\n",
    "    \"general_info\": [\n",
    "        {\n",
    "            \"name\" : \"Roles and Responsibilities\",\n",
    "            \"infos\" : [\n",
    "                \"Former Lead Fullstack Developer at my previous company.\",\n",
    "                \"Managed the complete IT infrastructure for the company.\",\n",
    "                \"Built several production applications, including an ETL, CRM, and user applications from scratch.\",\n",
    "                \"Experienced in managing the full life cycle of a web application.\"\n",
    "            ],\n",
    "        },\n",
    "        { \n",
    "            \"name\" : \"Technical Skills\" ,\n",
    "            \"infos\" : [\n",
    "                \"Fullstack development (4 years of experience).\",\n",
    "                \"Defined application infrastructure using microservices, DevOps, Docker, CI/CD pipelines, and software design patterns.\",\n",
    "                \"Experience in DevOps and data engineering, including data analysis, cloud native applications.\",\n",
    "                \"Knowledge of domain and hosting environments, including setup and management.\"\n",
    "            ],\n",
    "        },\n",
    "        {\n",
    "            \"name\" : \"Educational Background\",\n",
    "            \"infos\" : [\n",
    "                \"Bachelor's degree in Computer Science.\",\n",
    "                \"Master's degree in Machine Learning.\"\n",
    "            ],\n",
    "        },\n",
    "        {\n",
    "            \"name\" : \"Industry Experience\",\n",
    "            \"infos\" : [\n",
    "                \"Experience working in industrial, corporate, and startup environments.\",\n",
    "            ],\n",
    "        }\n",
    "        ,\n",
    "        {    \n",
    "            \"name\" : \"Additional Information\",\n",
    "            \"infos\" : [\n",
    "                \"Passionate about computer science and artificial intelligence.\",\n",
    "                \"Own a self-hosted LLM station for AI model experimentation.\",\n",
    "                \"Proactive and get the job done \",\n",
    "                \"Used to find complexe solutions in constraint environment\"\n",
    "            ],\n",
    "        }\n",
    "    ],       \n",
    "    \"work_experience\": {\n",
    "        \"intrad\": {\n",
    "            \"company_name\" : \"Intrad\",\n",
    "            \"title\": \"Fullstack Developer\",\n",
    "            \"start_date\": \"july 2023\",\n",
    "            \"end_date\": \"October 2024\",\n",
    "            \"employment_type\": \"Full-time\",\n",
    "            \"responsibilities\":[\n",
    "                    \"DevOps: Cloud infrastructure selection, deployment scripts (YAML, Bash), database management, domain and hosting management, Git management.\",\n",
    "                    \"E-learning Application Development: Created quiz forms, PDF embedding, certificate generation.\",\n",
    "                    \"CRM Development: API creation for remote control, integration with Discord, Zoom, Vimeo, GSuite, user authentication, email management, customer support, monitoring.\",\n",
    "                    \"Learning Management System (LMS): User resource access control, video tracking, mobile and desktop compatibility.\"\n",
    "            ],\n",
    "            \"skills\" : [\"Microservices\", \"Bash\", \"cloud infrastructure\", \"APIs\", \"Zoom API\", \"GSuite\", \"UX/UI design\", \"database management\", \"python\", \"django\", \"aws\", \"docker\", \"vue.js\", \"node.js\", \"CI/CD\"]\n",
    "        },\n",
    "        \"freelancing\": {\n",
    "            \"company_name\" : \"Freelancing\",\n",
    "            \"title\": \"Fullstack Developer\",\n",
    "            \"start_date\": \"september 2020\",\n",
    "            \"end_date\": \"October 2024\",\n",
    "            \"employment_type\": \"Freelance\",\n",
    "            \"responsibilities\":[\n",
    "                    \"ML Engineer: Developper ML models for financial forecasting and reinforcement learning taks\",\n",
    "                    \"Web Development: Responsive, multi-language websites; Fullstack web applications.\"\n",
    "            ],\n",
    "            \"skills\" : [\"Django\", \"Vue\", \"UX/UI\", \"Sktlearn\", \"Scikit\", \"Pytorch\", \"Tensorflow\", \"Pandas\", \"Numpy\"]\n",
    "        },\n",
    "        \"helioit\": {\n",
    "            \"company_name\" : \"HelioIT\",\n",
    "            \"title\": \"Fullstack Developer\",\n",
    "            \"start_date\": \"july 2023\",\n",
    "            \"end_date\": \"Today\",\n",
    "            \"employment_type\": \"Lead dev, Full-time\",\n",
    "            \"responsibilities\":[\n",
    "                    \"SAAS Development: Backend development, database schema design, Vue.js app development, product ownership.\",\n",
    "                    \"ChatBot Application: Integrated LLM APIs, OpenAI wrapper, self-hosting LLM models, multilingual support.\"\n",
    "            ],\n",
    "            \"skills\" : [\"Selfhosting AI\",\"LLM APIs\", \"OpenAI\", \"multilingual application design\", \"Vue.js\", \"nest.js\", \"typescript\", \"API\"]\n",
    "        },\n",
    "        \"actinvision\": {\n",
    "            \"company_name\" : \"ActinVision\",\n",
    "            \"title\": \"Data Analyst\",\n",
    "            \"start_date\": \"september 2022\",\n",
    "            \"end_date\": \"july 2023\",\n",
    "            \"employment_type\": \"Full-time\",\n",
    "            \"responsibilities\":[\n",
    "                    \"Data Analysis: Created dashboards, used Tableau Online for data visualization, data modeling with Dataiku.\"\n",
    "            ],\n",
    "            \"skills\" : [\"Tableau\", \"Dataiku\", \"data modeling\"]\n",
    "        },\n",
    "        \"hager group\": {\n",
    "            \"company_name\" : \"Hager Group\",\n",
    "            \"title\": \"Data Manager\",\n",
    "            \"start_date\": \"january 2022\",\n",
    "            \"end_date\": \"july 2022\",\n",
    "            \"employment_type\": \"Internship\",\n",
    "            \"responsibilities\":[\n",
    "                    \"ETL Processing: Handled large volumes of Excel data, POC/MVP development, data export into formatted Excel.\",\n",
    "                    \"Machine Learning Models: Built forecasting models using Scikit-Learn.\"\n",
    "            ],\n",
    "            \"skills\" : [\"Excel\", \"data processing\", \"Scikit-Learn\"]\n",
    "        }\n",
    "    },\n",
    "\n",
    "    \"skills\": {\n",
    "        \"front\" : [\"html\", \"css\", \"vue.js\", \"react\", \"ux/ui\", \"php\"],\n",
    "        \"backend\" : [\"shell\", \"node.js\", \"django\", \"nest.js\", \"drf restframework\", \"API\", \"microservice\", \"script\", \"REST API\", \"CLI\", \"terminal\", \"SSH\"],\n",
    "        \"languages\" : [\"python\", \"javascript\", \"typescript\", \"C\", \"C++\", \"VBA\"],\n",
    "        \"machine  learning\" : [\"NLP\", \"Reinforcement learning\", \"scikit\", \"Deep learning\", \"forecasting\", \"pythorch\", \"tensorflow\", \"Pandas\", \"Numpy\"],\n",
    "        \"devops\" : [\"cloud\", \"hosting\", \"docker\", \"git\", \"CI/CD\"],\n",
    "        \"database\" : [\"postgres\", \"SQL\", \"NoSQL\", \"MongoDB\", \"MySQL\", \"SQLite\", \"relational database\"],\n",
    "        \"data\" : [\"Power bi\", \"Tableau\"],\n",
    "        \"Other\" : [\"Agile\", \"Clean code\", \"Communication\", \"Project management\", \"deadlines\", \"Debug,selenium\", \"web automation\"]\n",
    "    },\n",
    "    \n",
    "    \"education\": [\n",
    "        {\n",
    "        \"degree_name\": \"Master's degree in Data Science\",\n",
    "        \"institution_name\": \"University of Strasbourg\",\n",
    "        \"start_year\": \"2020\",\n",
    "        \"end_year\": \"2022\"\n",
    "        },\n",
    "        {\n",
    "        \"degree_name\": \"Bachelore's degree in Computer Science\",\n",
    "        \"institution_name\": \"University of Strasbourg\",\n",
    "        \"start_year\": \"2017\",\n",
    "        \"end_year\": \"2020\"\n",
    "        }\n",
    "    ],\n",
    "}"
   ]
  },
  {
   "cell_type": "code",
   "execution_count": 18,
   "metadata": {},
   "outputs": [],
   "source": [
    "\n",
    "\"skills\": \"- **front** : html, css, vue.js, react, ux/ui, php\\n- **backend** : shell, node.js, django, nest.js, drf restframework, API, microservice, script, REST API, CLI, terminal, SSH\\n- **languages** : python, javascript, typescript, C, C++, VBA\\n- **machine  learning** : NLP, Reinforcement learning, scikit, Deep learning, forecasting, pythorch, tensorflow, Pandas, Numpy\\n- **devops** : cloud, hosting, docker, git, CI/CD\\n- **database** : postgres, SQL, NoSQL, MongoDB, MySQL, SQLite, relational database\\n- **data** : Power bi, Tableau\\n- **Other** : Agile, Clean code, Communication, Project management, deadlines, Debug,selenium, web automation \\n\","
   ]
  },
  {
   "cell_type": "code",
   "execution_count": 48,
   "metadata": {},
   "outputs": [],
   "source": [
    "from jinja2 import Template"
   ]
  },
  {
   "cell_type": "code",
   "execution_count": 57,
   "metadata": {},
   "outputs": [],
   "source": [
    "def skills_context_to_text(skills_context):\n",
    "    return '\\n'.join(f\"- **{k}** : \" +  ', '.join(skills_context[k]) for k in skills_context.keys())\n",
    "    \n",
    "def work_context_to_text(position_context):\n",
    "    template_work_experience = \"\"\"# {{company_name}} - {{position_title}}\n",
    "**Date : {{start_date}} - {{end_date}}\n",
    "**Employment Type**: {{employment_type}}\n",
    "**Responsibilities**:\n",
    "{{responsibilities}}**Skills and Tools Used**: {{skill_list}}\"\"\"\n",
    "\n",
    "\n",
    "    responsibilities = ''.join(f' - {r}\\n' for r in position_context['responsibilities'])\n",
    "    skills = ', '.join(position_context['skills'])\n",
    "\n",
    "    context = {\n",
    "        \"company_name\" : position_context['company_name'],\n",
    "        \"position_title\" : position_context[\"title\"],\n",
    "        \"start_date\" : position_context['start_date'],\n",
    "        \"end_date\" : position_context['end_date'],\n",
    "        \"employment_type\" : position_context['employment_type'],\n",
    "        \"responsibilities\" :  responsibilities,\n",
    "        \"skill_list\" : skills\n",
    "    }\n",
    "\n",
    "    template = Template(template_work_experience)\n",
    "    output = template.render(context)\n",
    "    return output"
   ]
  },
  {
   "cell_type": "code",
   "execution_count": 82,
   "metadata": {},
   "outputs": [],
   "source": [
    "\n",
    "\n"
   ]
  },
  {
   "cell_type": "code",
   "execution_count": 83,
   "metadata": {},
   "outputs": [
    {
     "name": "stdout",
     "output_type": "stream",
     "text": [
      "# Intrad - Fullstack Developer\n",
      "**Date : july 2023 - October 2024\n",
      "**Employment Type**: Full-time\n",
      "**Responsibilities**:\n",
      " - DevOps: Cloud infrastructure selection, deployment scripts (YAML, Bash), database management, domain and hosting management, Git management.\n",
      " - E-learning Application Development: Created quiz forms, PDF embedding, certificate generation.\n",
      " - CRM Development: API creation for remote control, integration with Discord, Zoom, Vimeo, GSuite, user authentication, email management, customer support, monitoring.\n",
      " - Learning Management System (LMS): User resource access control, video tracking, mobile and desktop compatibility.\n",
      "**Skills and Tools Used**: Microservices, Bash, cloud infrastructure, APIs, Zoom API, GSuite, UX/UI design, database management, python, django, aws, docker, vue.js, node.js, CI/CD\n",
      "\n",
      "# Freelancing - Fullstack Developer\n",
      "**Date : september 2020 - October 2024\n",
      "**Employment Type**: Freelance\n",
      "**Responsibilities**:\n",
      " - ML Engineer: Developper ML models for financial forecasting and reinforcement learning taks\n",
      " - Web Development: Responsive, multi-language websites; Fullstack web applications.\n",
      "**Skills and Tools Used**: Django, Vue, UX/UI, Sktlearn, Scikit, Pytorch, Tensorflow, Pandas, Numpy\n",
      "\n",
      "# HelioIT - Fullstack Developer\n",
      "**Date : july 2023 - Today\n",
      "**Employment Type**: Lead dev, Full-time\n",
      "**Responsibilities**:\n",
      " - SAAS Development: Backend development, database schema design, Vue.js app development, product ownership.\n",
      " - ChatBot Application: Integrated LLM APIs, OpenAI wrapper, self-hosting LLM models, multilingual support.\n",
      "**Skills and Tools Used**: Selfhosting AI, LLM APIs, OpenAI, multilingual application design, Vue.js, nest.js, typescript, API\n",
      "\n",
      "# ActinVision - Data Analyst\n",
      "**Date : september 2022 - july 2023\n",
      "**Employment Type**: Full-time\n",
      "**Responsibilities**:\n",
      " - Data Analysis: Created dashboards, used Tableau Online for data visualization, data modeling with Dataiku.\n",
      "**Skills and Tools Used**: Tableau, Dataiku, data modeling\n",
      "\n",
      "# Hager Group - Data Manager\n",
      "**Date : january 2022 - july 2022\n",
      "**Employment Type**: Internship\n",
      "**Responsibilities**:\n",
      " - ETL Processing: Handled large volumes of Excel data, POC/MVP development, data export into formatted Excel.\n",
      " - Machine Learning Models: Built forecasting models using Scikit-Learn.\n",
      "**Skills and Tools Used**: Excel, data processing, Scikit-Learn\n"
     ]
    }
   ],
   "source": [
    "print('\\n\\n'.join(work_context_to_text(v) for v in data['work_experience'].values()))"
   ]
  },
  {
   "cell_type": "code",
   "execution_count": 46,
   "metadata": {},
   "outputs": [
    {
     "ename": "KeyError",
     "evalue": "'company_name'",
     "output_type": "error",
     "traceback": [
      "\u001b[1;31m---------------------------------------------------------------------------\u001b[0m",
      "\u001b[1;31mKeyError\u001b[0m                                  Traceback (most recent call last)",
      "Cell \u001b[1;32mIn[46], line 1\u001b[0m\n\u001b[1;32m----> 1\u001b[0m \u001b[43mtemplate_work_experience\u001b[49m\u001b[38;5;241;43m.\u001b[39;49m\u001b[43mformat\u001b[49m\u001b[43m(\u001b[49m\u001b[38;5;241;43m*\u001b[39;49m\u001b[43mcontext\u001b[49m\u001b[38;5;241;43m.\u001b[39;49m\u001b[43mvalues\u001b[49m\u001b[43m(\u001b[49m\u001b[43m)\u001b[49m\u001b[43m)\u001b[49m\n",
      "\u001b[1;31mKeyError\u001b[0m: 'company_name'"
     ]
    }
   ],
   "source": [
    "\n"
   ]
  }
 ],
 "metadata": {
  "kernelspec": {
   "display_name": "env",
   "language": "python",
   "name": "python3"
  },
  "language_info": {
   "codemirror_mode": {
    "name": "ipython",
    "version": 3
   },
   "file_extension": ".py",
   "mimetype": "text/x-python",
   "name": "python",
   "nbconvert_exporter": "python",
   "pygments_lexer": "ipython3",
   "version": "3.10.10"
  }
 },
 "nbformat": 4,
 "nbformat_minor": 2
}
